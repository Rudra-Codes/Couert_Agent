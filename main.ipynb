{
  "nbformat": 4,
  "nbformat_minor": 0,
  "metadata": {
    "colab": {
      "provenance": [],
      "authorship_tag": "ABX9TyO+29/Zzj22mjBfiXsVkSRC",
      "include_colab_link": true
    },
    "kernelspec": {
      "name": "python3",
      "display_name": "Python 3"
    },
    "language_info": {
      "name": "python"
    }
  },
  "cells": [
    {
      "cell_type": "markdown",
      "metadata": {
        "id": "view-in-github",
        "colab_type": "text"
      },
      "source": [
        "<a href=\"https://colab.research.google.com/github/Rudra-Codes/Couert_Agent/blob/main/main.ipynb\" target=\"_parent\"><img src=\"https://colab.research.google.com/assets/colab-badge.svg\" alt=\"Open In Colab\"/></a>"
      ]
    },
    {
      "cell_type": "code",
      "execution_count": 26,
      "metadata": {
        "colab": {
          "base_uri": "https://localhost:8080/"
        },
        "id": "M7aELqYAOyKp",
        "outputId": "1b1f4eca-2e8d-4042-d492-e2df774a8e0f"
      },
      "outputs": [
        {
          "output_type": "stream",
          "name": "stdout",
          "text": [
            "\n",
            "    _|    _|  _|    _|    _|_|_|    _|_|_|  _|_|_|  _|      _|    _|_|_|      _|_|_|_|    _|_|      _|_|_|  _|_|_|_|\n",
            "    _|    _|  _|    _|  _|        _|          _|    _|_|    _|  _|            _|        _|    _|  _|        _|\n",
            "    _|_|_|_|  _|    _|  _|  _|_|  _|  _|_|    _|    _|  _|  _|  _|  _|_|      _|_|_|    _|_|_|_|  _|        _|_|_|\n",
            "    _|    _|  _|    _|  _|    _|  _|    _|    _|    _|    _|_|  _|    _|      _|        _|    _|  _|        _|\n",
            "    _|    _|    _|_|      _|_|_|    _|_|_|  _|_|_|  _|      _|    _|_|_|      _|        _|    _|    _|_|_|  _|_|_|_|\n",
            "\n",
            "    A token is already saved on your machine.\n",
            "    Setting a new token will erase the existing one.\n",
            "    To log in, `huggingface_hub` requires a token generated from https://huggingface.co/settings/tokens .\n",
            "Enter your token (input will not be visible): \n",
            "Add token as git credential? (Y/n) n\n",
            "Token is valid (permission: read).\n",
            "The token `Court_Agent` has been saved to /root/.cache/huggingface/stored_tokens\n",
            "Your token has been saved to /root/.cache/huggingface/token\n",
            "Login successful.\n",
            "The current active token is: `Court_Agent`\n"
          ]
        }
      ],
      "source": [
        "!huggingface-cli login"
      ]
    },
    {
      "cell_type": "code",
      "source": [
        "import os\n",
        "import pandas as pd\n",
        "from typing import List, Dict\n",
        "from huggingface_hub import InferenceClient"
      ],
      "metadata": {
        "id": "CO3vAb_BO6gS"
      },
      "execution_count": 2,
      "outputs": []
    },
    {
      "cell_type": "code",
      "source": [
        "class agents:\n",
        "  def __init__(self,\n",
        "               name: str,\n",
        "               system_prompt: str,\n",
        "                 model: str = \"microsoft/Phi-3-mini-4k-instruct\"):\n",
        "    self.name = name\n",
        "    self.system_prompt = system_prompt\n",
        "    self.client = InferenceClient(\n",
        "        model,\n",
        "        token=os.getenv(\"HF_API_TOKEN\"))\n",
        "\n",
        "  def response(self,dialogue = None,role_msg: str = None,result: bool = False) :\n",
        "    prompt = f\"<|system|>\\n{self.system_prompt}\\n\"\n",
        "    if result:\n",
        "      prompt += f\"<|User|>\\n{role_msg}\\n\"\n",
        "      prompt += \"<|assistant|>\\n\"\n",
        "    else :\n",
        "      prompt += \"<|user|\\nDialouges so far:\\n\"\n",
        "      for m in dialogue:\n",
        "        prompt += f\"{m['role']}: {m['content']}\\n\"\n",
        "      if role_msg != None:\n",
        "        prompt += role_msg\n",
        "      prompt += \"<|assistant|>\\n\"\n",
        "\n",
        "    answer = self.client.text_generation(\n",
        "        prompt,\n",
        "        max_new_tokens=512,\n",
        "        temperature=0.9,\n",
        "        do_sample = True,\n",
        "        stream=False,\n",
        "    )\n",
        "    answer = answer.strip()\n",
        "    # Saving answer\n",
        "\n",
        "    dialogue.append({\"role\": self.name, \"content\": answer})\n",
        "    return answer"
      ],
      "metadata": {
        "id": "aMzNhyYDO9Iu"
      },
      "execution_count": 14,
      "outputs": []
    },
    {
      "cell_type": "code",
      "source": [
        "class Resulter:\n",
        "  def __init__(self,\n",
        "               name: str,\n",
        "                 model: str = \"microsoft/Phi-3-mini-4k-instruct\"):\n",
        "    self.name = name\n",
        "    self.client = InferenceClient(\n",
        "        model,\n",
        "        token=os.getenv(\"HF_API_TOKEN\"))\n",
        "  def response(self,role_msg):\n",
        "    prompt = f\"<|system|>\\n{role_msg}\"\n",
        "    prompt += \"\\nIs the plea accepted? Answer with 1 or 0.\\n\"\n",
        "    prompt += \"<|assistant|>\\n\"\n",
        "    answer = self.client.text_generation(\n",
        "        prompt,\n",
        "        max_new_tokens=124,\n",
        "        temperature=0.2,\n",
        "        do_sample=False,\n",
        "        stream=False,\n",
        "    )\n",
        "    answer = answer.strip()\n",
        "    return answer\n"
      ],
      "metadata": {
        "id": "1Va1dF9W8EfW"
      },
      "execution_count": 20,
      "outputs": []
    },
    {
      "cell_type": "code",
      "source": [
        "with open('data_reduced.csv', 'r', encoding='utf-8') as file:\n",
        "    lines = file.readlines()\n",
        "\n",
        "case_number = 1 # Specify the which case from data\n",
        "\n",
        "case_background = lines[case_number].strip()"
      ],
      "metadata": {
        "id": "9XTxREjdT0oI"
      },
      "execution_count": null,
      "outputs": []
    },
    {
      "cell_type": "code",
      "source": [
        "judge_prompt = \"\"\"Court Simulation with case details are:\n",
        "You are the judge of the court and your role is to decide who will speak next in discussion.\n",
        "Other roles are:\n",
        "Defendant = 1\n",
        "Defense Lawyer = 2\n",
        "Plaintiff = 3\n",
        "Prosecution Lawyer = 4\n",
        "Call Judger = 5 if case is completed\n",
        "\"\"\"\n",
        "\n",
        "defender_prompt = \"\"\"\n",
        "The defender provides legal advice to the accused person throughout the legal process.\n",
        "The defender investigates the facts of the case and gathers evidence to support the defense.\n",
        "They build and present a defense strategy aimed at proving the defendant’s innocence or reducing their liability.\n",
        "During the trial, the defender cross-examines the prosecution’s witnesses and objects to any improper procedures or evidence.\n",
        "They ensure that the defendant’s constitutional rights, such as the right to remain silent and the right to a fair trial, are protected at all times.\n",
        "The defender may also negotiate plea bargains with the prosecution if it serves the best interest of the defendant.\n",
        "Throughout the case, the defender must act in the defendant’s best interest while upholding ethical and legal standards.\n",
        "\"\"\"\n",
        "\n",
        "laintiff_prompt = \"\"\"\n",
        "The plaintiff is the party who initiates a legal case by filing a complaint against another party, known as the defendant.\n",
        "The plaintiff claims to have been wronged or harmed and seeks a legal remedy from the court.\n",
        "They are responsible for presenting evidence and arguments to prove that the defendant is legally responsible for the harm caused.\n",
        "The plaintiff works with their attorney to develop a case strategy, identify key witnesses, and gather supporting documents or materials.\n",
        "During the trial, the plaintiff presents their case first, introduces evidence, and questions witnesses to support their claims.\n",
        "The plaintiff must meet the burden of proof, which typically means proving their case by a preponderance of the evidence in civil cases.\n",
        "Throughout the proceedings, the plaintiff aims to convince the judge or jury to grant relief, which could include compensation, an injunction, or other court-ordered actions.\n",
        "\"\"\"\n",
        "\n",
        "defense_lawyer_prompt = \"\"\"\n",
        "You are **Alex Carter**, lead *defense counsel*.\n",
        "Goals:\n",
        "• Protect the constitutional rights of the defendant.\n",
        "• Raise reasonable doubt by pointing out missing evidence or alternative explanations.\n",
        "• Be respectful to the Court and to opposing counsel.\n",
        "Style:\n",
        "• Crisp, persuasive, grounded in precedent and facts provided.\n",
        "• When citing precedent: give short case name + year (e.g., *Miranda v. Arizona* (1966)).\n",
        "Ethics:\n",
        "• Do not fabricate evidence; admit uncertainty when required.\n",
        "\"\"\"\n",
        "\n",
        "prosecution_lawyer_prompt = \"\"\"\n",
        "You are **Jordan Blake**, *Assistant District Attorney* for the State.\n",
        "Goals:\n",
        "• Present the strongest good‑faith case against the accused.\n",
        "• Lay out facts logically, citing exhibits or witness statements when available.\n",
        "• Anticipate and rebut common defense arguments.\n",
        "Style:\n",
        "• Formal but plain English; persuasive, with confident tone.\n",
        "Ethics:\n",
        "• Duty is to justice, not merely to win. Concede points when ethically required.\n",
        "\"\"\"\n",
        "\n",
        "judger_prompt = \"\"\"\n",
        "You are a judge of the court.\n",
        "Predict the verdict of the case based on case details provided wether the case can be granted or not.\n",
        "\"\"\"\n",
        "\n",
        "result_prompt = \"\"\"\n",
        "Output 1 if granted and 0 if not.\n",
        "\"\"\""
      ],
      "metadata": {
        "id": "jSLV6-hoPPQG"
      },
      "execution_count": 5,
      "outputs": []
    },
    {
      "cell_type": "code",
      "source": [
        "dialogue = []\n",
        "final_answer = []\n",
        "dialogue.append({\"role\": \"Judge\", \"content\": \"Provide the opening statement\"})\n",
        "print(dialogue[0][\"content\"],\"\\n\")"
      ],
      "metadata": {
        "id": "gNr_IKWXTtxf",
        "colab": {
          "base_uri": "https://localhost:8080/"
        },
        "outputId": "934a0798-61ec-40d9-f17f-d89ecc67dedf"
      },
      "execution_count": 21,
      "outputs": [
        {
          "output_type": "stream",
          "name": "stdout",
          "text": [
            "Provide the opening statement \n",
            "\n"
          ]
        }
      ]
    },
    {
      "cell_type": "code",
      "source": [
        "judge = agents(\"Judge\", judge_prompt)\n",
        "prosecution_lawyer = agents(\"Prosecution Lawyer\", prosecution_lawyer_prompt)\n",
        "defense_lawyer = agents(\"Defense Lawyer\", defense_lawyer_prompt)\n",
        "plaintiff = agents(\"Plaintiff\", laintiff_prompt)\n",
        "defender = agents(\"Defendant\", defender_prompt)\n",
        "\n",
        "verdict = judge.response(dialogue,\"Just give the integer of role who will speak based on the discussion\")\n",
        "\n",
        "# print(verdict[0])\n",
        "# print(verdict)"
      ],
      "metadata": {
        "id": "czifm-swTsur"
      },
      "execution_count": null,
      "outputs": []
    },
    {
      "cell_type": "code",
      "source": [
        "verdict_bool : bool = True\n",
        "while (verdict_bool) :\n",
        "  verdict_bool = False\n",
        "  if (verdict.split()[0] == \"Defendant\") or (verdict[0] == 1):\n",
        "    print(defender.response(dialogue,verdict),\"\\n\")\n",
        "    verdict = judge.response(dialogue,\"Just give the integer of role who will speak based on the discussion\")\n",
        "    verdict_bool = True\n",
        "  elif (verdict.split()[0] == \"Plaintiff\") or (verdict[0] == 3):\n",
        "    print(plaintiff.response(dialogue,verdict),\"\\n\")\n",
        "    verdict = judge.response(dialogue,\"Just give the integer of role who will speak based on the discussion\")\n",
        "    verdict_bool = True\n",
        "  elif (verdict.split()[0] == \"Defense\") or (verdict[0] == 2):\n",
        "    print(defense_lawyer.response(dialogue,verdict),\"\\n\")\n",
        "    verdict = judge.response(dialogue,\"Just give the integer of role who will speak based on the discussion\")\n",
        "    verdict_bool = True\n",
        "  elif (verdict.split()[0] == \"Prosecution\") or (verdict[0] == 4):\n",
        "    print(prosecution_lawyer.response(dialogue,verdict),\"\\n\")\n",
        "    verdict = judge.response(dialogue,\"Just give the integer of role who will speak based on the discussion\")\n",
        "    verdict_bool = True"
      ],
      "metadata": {
        "id": "TnKfJp1gUsid"
      },
      "execution_count": null,
      "outputs": []
    },
    {
      "cell_type": "markdown",
      "source": [],
      "metadata": {
        "id": "-MlNE6Uc_8qq"
      }
    },
    {
      "cell_type": "code",
      "source": [
        "judger = agents(\"Judge\", judger_prompt)\n",
        "verdict = judger.response(dialogue, \"give verdict as judge\")\n",
        "print(verdict)\n",
        "# Phase 1 end here"
      ],
      "metadata": {
        "id": "a9sHcl3DwO7l"
      },
      "execution_count": null,
      "outputs": []
    },
    {
      "cell_type": "code",
      "source": [
        "# For Phase 2 (Some Modification)\n",
        "\n",
        "data = pd.read_csv(\"cases.csv\")\n",
        "for i in range(0,49) :\n",
        "  case_data = data.iloc[i][2]\n",
        "  case_data = case_data[:3000].replace(\"\\n\", \"\")\n",
        "  # print (case_data)\n",
        "  judger = agents(\"Judge\", judger_prompt)\n",
        "  verdict = judger.response(dialogue, f\"Case Details: {case_data}\", True)\n",
        "  print(verdict)\n",
        "\n",
        "# Using Another llm to judge verdict\n",
        "  resulter = Resulter(\"resulter\")\n",
        "  answer = resulter.response(verdict)\n",
        "  # print(answer)\n",
        "  final_answer.append(answer[0])\n",
        "\n",
        "  # ----------Or Usinf pipeline sentimental analysis to judge verdict-----------\n",
        "  # classifier = pipeline(\"sentiment-analysis\")\n",
        "  # answer = classifier(verdict[:512])  # Or any text input\n",
        "  # answer = 0 if answer[0][\"label\"] == 'positive' else 1\n",
        "  # final_answer.append(answer)"
      ],
      "metadata": {
        "colab": {
          "base_uri": "https://localhost:8080/"
        },
        "id": "63ba07dz0g5-",
        "outputId": "82fbd7d9-dc9b-4437-e330-4adb5af8c11a"
      },
      "execution_count": 27,
      "outputs": [
        {
          "output_type": "stream",
          "name": "stderr",
          "text": [
            "<ipython-input-27-3d0732f7743b>:3: FutureWarning: Series.__getitem__ treating keys as positions is deprecated. In a future version, integer keys will always be treated as labels (consistent with DataFrame behavior). To access a value by position, use `ser.iloc[pos]`\n",
            "  case_data = data.iloc[i][2]\n"
          ]
        },
        {
          "output_type": "stream",
          "name": "stdout",
          "text": [
            "Based on the provided case details, the appeal is against the decision of the Andhra Pradesh High Court on an election petition where the appellant, a candidate from the CompanyGovernment Party, was declared elected against another candidate belonging to the same party after a petition alleging defamatory statements in a distributed pamphlet.\n",
            "\n",
            "The key points of consideration include:\n",
            "\n",
            "1. The allegation of unfair election practices, although limited to a specific piece of defamatory pamphlet.\n",
            "2. The respondent's claim that the pamphlet distribution was not done through him or his agents but rather using the names of his supporters as a strategy to present false evidence.\n",
            "3. The lack of company support and knowledge of the respondent regarding the distribution of the pamphlet.\n",
            "\n",
            "The appeal's success will depend on several factors:\n",
            "\n",
            "- The examination of evidence, including the distribution pattern of the pamphlet and the individuals named in the schedule as responsible for distributing it.\n",
            "- The evaluation of the claim that the appellant put together false and self-serving statements in the form of letters stated as \"exs. a-2 to a-4\" to leverage defamation against the respondent.\n",
            "- Whether the High Court's decision was reasonable, considering the allegations, findings, and supported evidence.\n",
            "\n",
            "As the version of this court case is provided without an actual judgment, I cannot predict the exact outcome. However, if the High Court properly followed due process and fair evidence examination, and if their findings consider the core facts and legal standards, then there would be a limited chance for the appeal to overturn the High Court decision.\n",
            "\n",
            "Should the decision of the High Court be found to be biased, not supported by substantial evidence, or neglecting relevant legal standards, then there would be a higher chance for the appeal to be successful, potentially leading to a reassessment or dismissal of the election petition.\n",
            "The case details provided suggest that the appeal involves the discharge of three police officers from the Punjab and Haryana High Court's jurisdiction. The officers recruited as part of the police force were allegedly terminated due to reaching the service time limit set out by Rule 12.21 of the Punjab Police Rules, 1934, which stipulates the conditions under which police personnel can be discharged.\n",
            "\n",
            "The central question of law in these appeals, as per the case details, pertains to the validity of the discharge orders issued by the impugned judgments under the Punjab Police Rules, 1934, specifically Rule 12.21. The appellant claims that the appointments of these officers were temporary and thus subject to termination, even within the framework of Rule 12.21. In contrast, the respondent argues against the validity of the discharge orders on the grounds that the officers, having served more than three years as police officers, should not have been subjected to their provisions.\n",
            "\n",
            "Based on these case details, the verdict of the court should primarily address the validity of the discharge orders. This would involve an analysis of Rule 12.21 of the Punjab Police Rules, 1934, in context with the service tenure of the officers and the provisions of the Police Act, 1861.\n",
            "\n",
            "The court should consider the following factors before rendering a verdict:\n",
            "1. Whether the appointments of the officers were indeed temporary, as claimed by the appellant.\n",
            "2. If the officers have completed more than three years of service, if the provisions of Rule 12.21 are indeed applicable.\n",
            "3. The interpretation of Rule 12.21 of the Punjab Police Rules, 1934, in the context of a fixed service tenure beyond three years.\n",
            "4. The intent and provisions of the Police Act, 1861, in relation to the enforcement of Rule 12.21.\n",
            "\n",
            "In conclusion, the verdict should address the crucial question of law: whether the discharge orders issued under Rule 12.21 of the Punjab Police Rules, 1934\n",
            "e 1-1-1966 and 27.3.1966 to the purchasing dealer.\n",
            "\n",
            "The main issue revolves around the interpretation of \"date of application\" for registration as a dealer under the Punjab Sales Tax Act, 1948. According to the respondent (raise transaction authority), registration with effect from the date of application (1/1/1966) should render the purchasing dealer a registered dealer, which would imply that sales made to them before their registration (but after the date of application) should not be treated as sales to an unregistered dealer.\n",
            "\n",
            "SONA's judgment appears to hinge on the principle that, indeed, if the purchasing dealer was registered from the day of application, the sales made during the period of application should not be related to an unregistered dealer, and, therefore, distribute the tax obligation fairly.\n",
            "\n",
            "Given the facts:\n",
            "\n",
            "- The purchasing dealer applied for registration on 1/1/1966 and was granted a certificate effective from that date.\n",
            "- Apparel manufacturers made sales to this purchasing dealer from 1/1/1966 until 27/3/1966.\n",
            "- The assessing authority disallowed deduction, arguing that during this period, the purchasing dealer was in possession of the registration certificate, implying it should be treated as an unregistered dealer.\n",
            "- The assessees appealed, and the high court held that as the \"date of application\" mentions the date of the application itself, that should be the starting point for considering their transactions as made to a registered dealer.\n",
            "\n",
            "Based on this analysis, it is likely that the Appellate Court would side with the high court and validate the decision of the high court, allowing the writeback of the tax. The reasoning recognizes the importance of the \"date of application\" for registration being the determinant period for sales, not just the date when the certificate of registration became effective. As such, the ruling should be in favor of the appellants.\n",
            "\n",
            "Therefore, on the facts presented, the appellate court should grant the appeal.\n",
            "Based on the case details provided, the court would primarily need to consider two points of law as raised in the appeal: the interpretation of sections 82 and 117 of the Representation of the People Act 1951.\n",
            "\n",
            "Section 82 pertains to voting, indicating that a person can vote at an election if they are a registered voter, belong to the constituency where the election is held, have not been disqualified, and have not been abroad. Section 117 concerns the deposit required for election expenses, necessary for securing the party’s election costs.\n",
            "\n",
            "The issue of Pillai's joinder, as a party respondent to the election petition after withdrawing from the company test, may cause a delay in proceedings but doesn't affect the core legal issues about the election's validity.\n",
            "\n",
            "The crux of the appeal would be the acknowledged defect regarding the deposit of Rs. 1000. If the proper and complete head of account was not mentioned in the treasury receipt, it would be up to the tribunal to decide if this technicality should be treated as fatal, which could affect the appellant's election credibility.\n",
            "\n",
            "However, given the overall context and the objections raised by the election commission, it seems unlikely that the tribunal will grant the appeal if they find that the defect in the deposit was not cured and subsequently affects the appellant's chances of being declared duly elected. The court would likely investigate whether such a defect should be considered fatal to the election process or whether it could be rectified to allow the election to proceed fairly.\n",
            "\n",
            "This case outcome would strongly depend on how the election tribunal interprets the law and the provisions concerning election deposits under section 117 of the Representation of the People Act 1951. It would also be relevant if there were any irregularities that might have impacted the validity of the election process or influenced the electoral outcome.\n",
            "\n",
            "In conclusion, from the case details provided, it appears that the court might not grant the appeal if the defect in the deposit raised a substantial issue affecting the appellant’s election. However, a thorough examination of election procedures and regulations, as specified in sections 82 and 117 of the Representation of the People Act 1\n",
            "Predicting the outcome of a case based on the details provided would typically require an in-depth understanding of the relevant laws, previous court decisions, and other factors that may play a critical role in the case. As a judge in the court, my role is to consider the facts presented and examine the arguments of the parties involved.\n",
            "\n",
            "Based on the provided case details, it seems that the matter revolves around the interpretation of the company rules regarding the seniority list and the recruitment process within the Uttar Pradesh Higher Judicial Service (UPHJS). The core issue appears to be whether the final seniority list, prepared in accordance with the observations of the court in the case of \"P.K. Dixit and others v. State of Uttar Pradesh and others (1988) 1 SCR 398\", is valid under the current A.P. Higher Judicial Service (AHJS) rules, 1974.\n",
            "\n",
            "The plaintiffs, in this case, appear to challenge the seniority list under the 1974 AHJS rules since it excludes their appointments, which were made before the abolition of the cadre of civil and sessions judges. If the plaintiffs' arguments are well-supported by the applicable laws, and the court finds that the seniority list does not conform to the 1974 rules, then the judgment may have to be aligned with the petitioners' claims.\n",
            "\n",
            "However, the final decision depends on the court's interpretation of the relevant rules and the arguments put forth by the parties. It's essential to consider the principles of fairness, transparency, and legality in judgments relating to employment and recruitment processes.\n",
            "\n",
            "Concerning the prediction that \"the case can be granted,\" that would mean that the court is inclined to side with the plaintiffs. The court's ultimate decision would depend on whether it finds their claims valid under the pertinent laws. This can only be known after reading and analyzing the full written arguments and evidence presented in the court. However, within the context provided, hypothetically speaking, if the arguments put forth by the plaintiffs are compelling and aligned with the relevant laws, the court might favor their position.\n",
            "\n",
            "For a more accurate prediction, a detailed review of the relevant laws and statutes in\n",
            "Based on the provided case details, it is difficult to predict the exact verdict without a thorough examination of all the facts and evidence presented in the appellate court. However, the appellate court's decision would be grounded in the examination of procedural fairness, judgment quality and legal principles upheld during the first trial.\n",
            "\n",
            "As part of this analysis, it's essential to verify if all the due process requirements were followed in the original trial. This includes evidence disclosure, rights of defence, and fair trial, among others. If such procedures were not adequately followed, it forms a strong basis for a possible reversal by the appellate court.\n",
            "\n",
            "Furthermore, the state of Haryana's appeal and prosecution's charge sheet against Gurdial Singh has to be considered under the scrutiny of new evidence (i.e., the insanity of Gurdial Singh), which might not have been taken into account during the first trial. If the appellate court believes that this oversight might have affected the decision of the original trial, it is likely to consider this while making the final decision.\n",
            "\n",
            "Another point of interest is the relationship between Gurinder Singh – the father of the victims – and Lal Singh, who apparently had significant influence over the family. The court might need to assess the extent of this influence and how it might have impacted the events leading to the victims' deaths.\n",
            "\n",
            "While deciding the case, the appellate court will focus on the provision of law and fairness in the application, which forms the basis for their decision. If there are errors in the application or any deviation from the established legal procedures, it can result in a reversal or possibly remand the case back to the lower court for resentencing.\n",
            "\n",
            "Moreover, though not completely determinative, the prosecution's case in the existing appeal and charge sheet on Gurdial Singh's insanity, as well as Gurinder Singh's perceived influence over the family, would play a significant role in the final judgment.\n",
            "\n",
            "To conclude, without more specific details about the case, the missing evidence, the legal arguments raised, and the jurist's personal viewpoints in the appellate court, I cannot confidently predict whether the appellate court will grant the appeal or not. The final verdict would depend\n",
            "In this case, the High Court overturned the conviction of the respondent, Mr. Motilal Kanumberia, under Section 5 of the Import and Export Control Act. The conviction was set aside, and an acquittal was entered, raising the question of legal principle involved in making this decision.\n",
            "\n",
            "As the Appellant's Counsel, it is pertinent to provide arguments for this case. It seems that Mr. Kanumberia was directly involved in the importation process, and his signing of documents on behalf of the company makes him a central figure in this case.\n",
            "\n",
            "1. Direct Involvement: The Appellant's Counsel could argue that Mr. Kanumberia played a crucial role in obtaining the licenses necessary for importing machinery for the company's purposes, which implies he had a direct involvement in the importation process.\n",
            "\n",
            "2. Lack of Intent to Violate the Import/Export Act: The Appellant's Counsel could argue that there was no intent to violate the Import/Export Control Act on Mr. Kanumberia's part. The actions taken by Mr. Kanumberia were done with the intention of benefiting the company, and he is not a person with a history of dishonesty or deceit. As an apparently honest person, no evidence of willful intent to violate the Act is available, and the Appellate Court, with a right to take notice of material facts, could have considered this aspect.\n",
            "\n",
            "3. The Attempt to Obtain Authorization: The importation process and procurement of licenses demonstrate that Mr. Kanumberia and the company made genuine attempts to ensure compliance with the Import/Export Control Act. This act of compliance can be considered as evidence of Mr. Kanumberia's legitimate involvement in the importation process.\n",
            "\n",
            "4. Responsibility of Legal Counsel and Company Management: The Appellant's Counsel could further argue that Mr. Kanumberia, within his capacity, followed the advice given by legal counsel and company management. The company's failure to remain compliant may not solely be attributed to Mr. Kanumberia's actions.\n",
            "\n",
            "Upon evaluating the evidence and understanding the background of Mr. Kanumberia as may be presented in the case, the Appellate Court might find it a\n",
            "Given the case details provided , the verdict will be based on analysis of several factors :\n",
            "\n",
            "- Compliance with Standing Orders : The claimant, Michael, mentions receiving two merit increments - considering this as evidence of his “efficiency and standing,” the tribunal will need to evaluate whether the response of giving him a month's notice and a discharge order was consistent with the standing orders in place. \n",
            "\n",
            "- Ground of Dismissal : The management's argument of losing confidence in Michael is put forth as the primary justification for termination. Michael's contention that it was due to his union activities and subsequent protests, against which management did not give due consideration, would be relevant. The tribunal will weigh this evidence against the management's claim and cross-verify it with any documentation or evidence to substantiate this ground of dismissal. \n",
            "\n",
            "- Manifest Disproportion : If the punishment (dismissal with a month's notice) seems disproportionate in comparison to the alleged misconduct (loss of confidence), it could point towards wrongful dismissal. For this, the tribunal would need to assess whether Michael did engage in impropriety or misconduct, the severity of the alleged misconduct, and how dismissal and one month's notice align with industry standards.\n",
            "\n",
            "- Impact on Employee's Career and Welfare : The court will also take into account the potential negative impact on Michael's career and welfare due to the unceremonious dismissal.\n",
            "\n",
            "- Legitimacy of Company's Reason : Even if the management's reason for dismissal is taken as credible, the court may examine whether it wasn't a pretext to avoid addressing their dissatisfaction with Michael's union activities. \n",
            "\n",
            "- Fair Investigation : The tribunal will need to ensure that an unbiased and fair investigation was conducted into the issue.\n",
            "\n",
            "The appellant's counsels for both sides, Mr. M. Tarkunde and KM Khanna, will present their respective arguments and evidence. Factuality, legal principles, and precedents will be crucial bases to arrive at a verdict.\n",
            "\n",
            "Based on these factors, the court's verdict could either uphold the dismissal if the management justifies its reasons under the\n",
            "Based on the case details provided, the plaintiffs claim that they have a right over a temple, and the endowments meant for the maintenance of the deity. They argue that the temple was built by their ancestor, Dayanidhi Mahapatra, with his own funds, and they have been managing it since his death. The company, on the other hand, has been collecting a sum of money from the plaintiffs annually, which they argue is against their rights as the family shebait. The plaintiffs further argue that the company unjustly declared the temple to be a public temple, contrary to their claims.\n",
            "\n",
            "Based on the information given, it appears the plaintiffs have a strong case as they have constructed the temple from their own funds, have been managing it under the concept of a family deity, and the court has recognized the temple as a private temple belonging to the family of the plaintiff. Also, the company's actions of collecting money from the plaintiffs for temple maintenance raise questions about their rights over the temple, which can further strengthen the plaintiffs' arguments.\n",
            "\n",
            "Considering these points, if the court proceeds with the case following the civil procedure code, it will be accurately argued. It seems reasonably probable that the court will rule in favor of the plaintiffs, reconfirming their status as owners of the temple and granting them relief from the unjust company's actions. However, this prediction holds only if the plaintiffs can effectively prove their claim in court and if they adequately present their case.\n",
            "Based on the case details provided, the petitioner's case primarily revolves around his detention under section 32 of the National Security Act of 1980, authorized by an order of the Mis-sioner of Police Bombay. The petitioner disputes the detention on the grounds of procedural irregularities, particularly highlighting the lack of consideration for his applications for bail in the three pending cases. He asserts that the detention order, as stated, renders an entirely new detention order unrelated to the original order and ignores his bail applications.\n",
            "\n",
            "On evaluating the arguments, the most glaring issue appears to be the procedural irregularity alleged by the petitioner – that the detaining authority did not take into account his applications for bail in the three pending cases while issuing the order of detention.\n",
            "\n",
            "The Supreme Court, in its decision, mentioned that the order of detention did not address the fact that the petitioner was an under-trial prisoner, nor the fact that bail applications were pending. The impartiality of the detaining authority came into question, as their overall absence of consideration for the petitioner's bail applications indicated a lack of \"application of mind\" while passing the order of detention.\n",
            "\n",
            "Given these arguments and evidence, it appears that the petitioner has a valid cause for contesting the order of detention. The court's decision to grant special leave to appeal further underscores the importance of procedural fairness and the right to bail for under-trial prisoners.\n",
            "\n",
            "In conclusion, based on the details and arguments provided, it would be reasonable to predict that the appellate court may uphold the petitioner's claim of procedural irregularity, possibly leading to a quashing of the order of detention or an alteration of the conditions set out in the original order to ensure a fair trial within the limits defined by law. However, the ultimate decision lies in the hands of the Court considering all the evidence and further arguments presented.\n",
            "To predict the verdict of the case based on the provided case details, we must consider the applicable legal provisions and the facts presented. The relevant law here appears to be the Punjab Security of Tenure Act (PSTA) of 1953, which provides security of tenure to tenants in Punjab.\n",
            "\n",
            "The case involves the dispute between Surja (the tenant) and Hardeva (the landlord). Surja has been cultivating the land in dispute since 1949. Section 18 of the PSTA permits a tenant holding land in certain circumstances to purchase the land from the landowner if they are not a small landowner and have been in continuous occupation of the land for at least six years, among other conditions.\n",
            "\n",
            "From the case details, it seems that Surja satisfies the conditions to apply for purchasing the land from Hardeva:\n",
            "\n",
            "1. The landlord, Hardeva, was ejected from his tenancy after August 14, 1947, before the company (the Punjab High Court) commencement of the PSTA.\n",
            "2. Surja was in continuous occupation of the land for a period of six years or more.\n",
            "3. The terms of the landlord's tenancy sublet to Surja were within a year from the commencement of the PSTA, suggesting that Surja may qualify for the right to purchase the land under this act.\n",
            "\n",
            "Based on the provisions of the PSTA and the facts presented, Surja (the appellant) has a strong legal position to invoke his right to purchase the land from Hardeva (the respondent). The judgment dismissing the writ petition filed by the respondent (Hardeva) in limine appears to be against the letter of the law.\n",
            "\n",
            "In conclusion, the Civil Appeal number 778 of 1966, civil appeal number 146 of 1965, and together as Special Leave Civil Appeal No. 365 of 1966, should be granted in favor of Surja, the appellant. The judgment of the Punjab High Court should be overturned, allowing Surja to exercise his right to purchase the land as a non-small landowner who has been\n"
          ]
        }
      ]
    },
    {
      "cell_type": "code",
      "source": [
        "print(final_answer)"
      ],
      "metadata": {
        "colab": {
          "base_uri": "https://localhost:8080/"
        },
        "id": "hDm4dRD0CEo1",
        "outputId": "4b5d8a82-9e01-4cc3-fc73-4099ee4aaf66"
      },
      "execution_count": 28,
      "outputs": [
        {
          "output_type": "stream",
          "name": "stdout",
          "text": [
            "['1', '0', '0', '0', '0', '0', '0', '1', '0', '0', '0', '0', '1', '1', '0', '1', '1', '1', '0', '1', '0', '0', '0', '1', '1', '0', '0', '0', '1', '0', '1', '1', '1']\n"
          ]
        }
      ]
    },
    {
      "cell_type": "code",
      "source": [
        "df = pd.DataFrame()"
      ],
      "metadata": {
        "id": "a2OVhq9c5eNu"
      },
      "execution_count": null,
      "outputs": []
    },
    {
      "cell_type": "code",
      "source": [
        "df = pd.DataFrame({\n",
        "    \"id\": data.iloc[:50,1],\n",
        "    \"verdict\": final_answer\n",
        "})\n",
        "df.to_csv('final_answer.csv', index=False)"
      ],
      "metadata": {
        "id": "c7hLNO9nCKHx"
      },
      "execution_count": null,
      "outputs": []
    },
    {
      "cell_type": "code",
      "source": [
        "import gc\n",
        "import torch\n",
        "\n",
        "gc.collect()\n",
        "if torch.cuda.is_available():\n",
        "    torch.cuda.empty_cache()"
      ],
      "metadata": {
        "id": "rKA5EN3qdSkb"
      },
      "execution_count": null,
      "outputs": []
    }
  ]
}
